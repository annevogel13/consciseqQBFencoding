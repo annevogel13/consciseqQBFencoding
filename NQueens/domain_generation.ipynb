{
 "cells": [
  {
   "cell_type": "code",
   "execution_count": 27,
   "metadata": {},
   "outputs": [],
   "source": [
    "\n",
    "class generation_Queens:\n",
    "\n",
    "    boardsize = 4\n",
    "\n",
    "    def __init__(self, boardsize):\n",
    "        self.boardsize = boardsize\n",
    "        self.nb_queens = boardsize\n",
    "        self.ymax = 4 \n",
    "        self.xmax = 4        \n",
    "        self.ymin = 1 \n",
    "        self.xmin = 1    \n",
    "        \n",
    "    def pred_open(self, x, y, modif1=None, modif2=None):\n",
    "        print(\"x : \", x, \" y : \", y, \" modif1 : \", modif1, \" modif2 : \", modif2)\n",
    "        \n",
    "        _x = \"-\" + str(x) if x < 0 else \"+\" + str(x)\n",
    "        _y = \"-\" + str(y) if y < 0 else \"+\" + str(y)\n",
    "            \n",
    "        if modif1 is None and modif2 is None:\n",
    "            return \"open(?x\" + _x + \", ?y\" + _y + \")\"\n",
    "        elif modif1 is None and modif2 is not None:\n",
    "            return \"open(?x\" + _x + \", ?y\" + _y + str(modif2) + \")\"\n",
    "        elif modif1 is not None and modif2 is None:\n",
    "            return \"open(?x\" + _x + \", ?y\" + _y + str(modif1) + \")\"\n",
    "        elif modif1 is not None and modif2 is not None:\n",
    "            return \"open(?x\" + _x + str(modif1) + \",?y\" + _y + str(modif2) + \")\"\n",
    "\n",
    "        assert \"Error in open function, not case matched\"\n",
    "\n",
    "    def generation_preconditions_queen(self, pos_x, pos_y):\n",
    "        str_return = [self.pred_open(\"x\", \"y\")]\n",
    "\n",
    "        # top / down\n",
    "        for _modif in range(self.ymin, self.ymax,1) : \n",
    "            # top \n",
    "            if pos_y + _modif <= self.ymax :\n",
    "                str_return.append(self.pred_open(\"x\", \"y\", None,  _modif))\n",
    "            # down\n",
    "            elif pos_y -_modif >= self.ymin :\n",
    "                str_return.append(self.pred_open(\"x\", \"y\", None,  _modif))  \n",
    "\n",
    "        # left / right\n",
    "        for _modif in range(self.xmin, self.xmax,1) : \n",
    "            # right  \n",
    "            if pos_y + _modif <= self.xmax :\n",
    "                str_return.append(self.pred_open(\"x\", \"y\", None,  _modif))\n",
    "            # left \n",
    "            elif pos_y -_modif >= self.xmax :\n",
    "                str_return.append(self.pred_open(\"x\", \"y\", None,  _modif))\n",
    "\n",
    "        # diagnoal : the only relevant cases to check are the following\n",
    "        # +-----+----+-----+\n",
    "        # | TL  |    | TR  |\n",
    "        # +-----+----+-----+\n",
    "        # |     | x  |     |\n",
    "        # +-----+----+-----+\n",
    "        # | BL  |    | BR  |\n",
    "        # +-----+----+-----+\n",
    "        \n",
    "        for _modif in range(self.xmin, self.xmax,1) :\n",
    "            # TL : top left  \n",
    "            if pos_x - _modif >= self.xmin and pos_y + _modif  <= self.ymax :\n",
    "                str_return.append(self.pred_open(\"x\", \"y\", -_modif,  _modif))\n",
    "            # BL : bottom left  \n",
    "            if pos_x - _modif >= self.xmin and pos_y - _modif >= self.ymin :\n",
    "                str_return.append(self.pred_open(\"x\", \"y\", -_modif,  -_modif))\n",
    "            # TR : top right \n",
    "            if pos_x + _modif <= self.xmax and pos_y + _modif  <= self.ymax :\n",
    "                str_return.append(self.pred_open(\"x\", \"y\", _modif,  _modif))    \n",
    "            # BR : bottom right \n",
    "            if pos_x + _modif <= self.xmax and pos_y - _modif >= self.ymin :\n",
    "                str_return.append(self.pred_open(\"x\", \"y\", _modif,  -_modif))    \n",
    "            \n"
   ]
  },
  {
   "cell_type": "code",
   "execution_count": 28,
   "metadata": {},
   "outputs": [
    {
     "name": "stdout",
     "output_type": "stream",
     "text": [
      "x :  2  y :  2  modif1 :  None  modif2 :  None\n"
     ]
    },
    {
     "data": {
      "text/plain": [
       "'open(?x+2, ?y+2)'"
      ]
     },
     "execution_count": 28,
     "metadata": {},
     "output_type": "execute_result"
    }
   ],
   "source": [
    "Q = generation_Queens(4)\n",
    "Q.pred_open(2,2)\n",
    "#Q.generation_preconditions_queen(2,2)"
   ]
  }
 ],
 "metadata": {
  "kernelspec": {
   "display_name": ".venv",
   "language": "python",
   "name": "python3"
  },
  "language_info": {
   "codemirror_mode": {
    "name": "ipython",
    "version": 3
   },
   "file_extension": ".py",
   "mimetype": "text/x-python",
   "name": "python",
   "nbconvert_exporter": "python",
   "pygments_lexer": "ipython3",
   "version": "3.11.0rc1"
  }
 },
 "nbformat": 4,
 "nbformat_minor": 2
}
